{
 "cells": [
  {
   "cell_type": "code",
   "execution_count": null,
   "metadata": {},
   "outputs": [],
   "source": [
    "# 1 Imports & Initialisation\n",
    "\n",
    "# Import Modules\n",
    "import pandas as pd\n",
    "import requests\n",
    "\n",
    "# Initialisation"
   ]
  }
 ],
 "metadata": {
  "language_info": {
   "name": "python"
  }
 },
 "nbformat": 4,
 "nbformat_minor": 2
}
